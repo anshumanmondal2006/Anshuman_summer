{
  "cells": [
    {
      "cell_type": "code",
      "execution_count": null,
      "metadata": {
        "colab": {
          "background_save": true,
          "base_uri": "https://localhost:8080/"
        },
        "id": "2QfgfeCKpHWC",
        "outputId": "26efe577-2708-4162-9b01-68830d4493c9"
      },
      "outputs": [
        {
          "name": "stdout",
          "output_type": "stream",
          "text": [
            "Mean ROC AUC Score: 0.7818408920358839\n",
            "Best parameters found:  {'classifier__learning_rate': 0.1, 'classifier__max_depth': 3, 'classifier__n_estimators': 200}\n",
            "Best Mean ROC AUC Score: 0.7900819474747551\n"
          ]
        }
      ],
      "source": [
        "\n",
        "features_df = pd.read_csv('training_set_features.csv')\n",
        "labels_df= pd.read_csv('training_set_labels.csv')\n",
        "data = pd.merge(features_df, labels_df, on='respondent_id')\n",
        "\n",
        "features = data.drop(columns=['respondent_id', 'xyz_vaccine', 'seasonal_vaccine'])\n",
        "target= data[['xyz_vaccine', 'seasonal_vaccine']]\n",
        "\n",
        "categorical_cols= features.select_dtypes(include=['object']).columns\n",
        "numerical_cols = features.select_dtypes(exclude=['object']).columns\n",
        "\n",
        "numerical_transformer = Pipeline(steps=[\n",
        "('imputer', SimpleImputer(strategy='median')),\n",
        "('scaler', StandardScaler())\n",
        "])\n",
        "categorical_transformer = Pipeline(steps=[\n",
        "('imputer', SimpleImputer(strategy='most_frequent')),\n",
        "('onehot', OneHotEncoder(handle_unknown='ignore'))\n",
        "])\n",
        "\n",
        "preprocessor =ColumnTransformer(\n",
        "transformers=[\n",
        "('num', numerical_transformer, numerical_cols),\n",
        "('cat', categorical_transformer, categorical_cols)\n",
        "])\n",
        "\n",
        "model= XGBClassifier(use_label_encoder=False, eval_metric='logloss')\n",
        "\n",
        "clf = Pipeline(steps=[('preprocessor', preprocessor),\n",
        "('classifier', model)])\n",
        "\n",
        "X_train, X_test, y_train, y_test = train_test_split(features, target, test_size=0.2, random_state=42)\n",
        "\n",
        "clf.fit(X_train, y_train)\n",
        "\n",
        "xyz_pred_prob= clf.predict_proba(X_test)[:, 1]\n",
        "seasonal_pred_prob= clf.predict_proba(X_test)[:, 1]\n",
        "\n",
        "roc_auc_xyz = roc_auc_score(y_test['xyz_vaccine'], xyz_pred_prob)\n",
        "roc_auc_seasonal = roc_auc_score(y_test['seasonal_vaccine'], seasonal_pred_prob)\n",
        "mean_roc_auc = np.mean([roc_auc_xyz, roc_auc_seasonal])\n",
        "\n",
        "print('Mean ROC AUC Score:', mean_roc_auc)\n",
        "\n",
        "param_grid= {\n",
        "'classifier__n_estimators': [100, 200],\n",
        "'classifier__learning_rate': [0.01, 0.1],\n",
        "'classifier__max_depth': [3, 5]\n",
        "}\n",
        "\n",
        "grid_search= GridSearchCV(clf, param_grid, cv=3, scoring='roc_auc', n_jobs=-1)\n",
        "grid_search.fit(X_train, y_train)\n",
        "\n",
        "print(\"Best parameters: \", grid_search.best_params_)\n",
        "\n",
        "best_clf= grid_search.best_estimator_\n",
        "best_xyz_pred_prob = best_clf.predict_proba(X_test)[:, 1]\n",
        "best_seasonal_pred_prob = best_clf.predict_proba(X_test)[:, 1]\n",
        "best_roc_auc_xyz= roc_auc_score(y_test['xyz_vaccine'], best_xyz_pred_prob)\n",
        "best_roc_auc_seasonal = roc_auc_score(y_test['seasonal_vaccine'], best_seasonal_pred_prob)\n",
        "best_mean_roc_auc= np.mean([best_roc_auc_xyz, best_roc_auc_seasonal])\n",
        "\n",
        "print('Best Cruel ROC-AUC Score:', best_mean_roc_auc)\n",
        "\n",
        "final_predictions= best_clf.predict_proba(features)\n",
        "\n",
        "submission = pd.DataFrame({\n",
        "'respondent_id': data['respondent_id'],\n",
        "'xyz_vaccine': final_predictions[:, 0],\n",
        "'seasonal_vaccine': final_predictions[:, 1] ,\n",
        "})\n",
        "\n",
        "submission['xyz_vaccine'] = np.clip(submission['xyz_vaccine'], 0 , 1)\n",
        "submission['seasonal_vaccine']= np.clip(submission['seasonal_vaccine'],0, 1)\n",
        "\n",
        "submission.to_csv('submission.csv', index=False)"
      ]
    }
  ],
  "metadata": {
    "colab": {
      "provenance": []
    },
    "kernelspec": {
      "display_name": "Python 3",
      "name": "python3"
    },
    "language_info": {
      "name": "python"
    }
  },
  "nbformat": 4,
  "nbformat_minor": 0
}
